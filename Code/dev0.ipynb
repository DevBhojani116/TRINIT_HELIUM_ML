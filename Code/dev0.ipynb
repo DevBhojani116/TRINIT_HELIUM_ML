{
  "nbformat": 4,
  "nbformat_minor": 0,
  "metadata": {
    "colab": {
      "provenance": []
    },
    "kernelspec": {
      "name": "python3",
      "display_name": "Python 3"
    },
    "language_info": {
      "name": "python"
    }
  },
  "cells": [
    {
      "cell_type": "code",
      "source": [
        "import os\n",
        "import xml.etree.ElementTree as ET\n",
        "from PIL import Image\n",
        "import matplotlib.pyplot as plt\n",
        "import matplotlib.patches as patches\n"
      ],
      "metadata": {
        "id": "wJZYwcvSuC0W"
      },
      "execution_count": 6,
      "outputs": []
    },
    {
      "cell_type": "code",
      "execution_count": null,
      "metadata": {
        "id": "d1g65FAVqnr5"
      },
      "outputs": [],
      "source": [
        "\n",
        "def parse_xml(xml_path):\n",
        "    tree = ET.parse(xml_path)\n",
        "    root = tree.getroot()\n",
        "\n",
        "    # Extract image size\n",
        "    size_element = root.find(\"size\")\n",
        "    width = int(size_element.find(\"width\").text)\n",
        "    height = int(size_element.find(\"height\").text)\n",
        "    depth = int(size_element.find(\"depth\").text)\n",
        "\n",
        "    # Check if there are road damages\n",
        "    damages = root.findall(\"object\")\n",
        "\n",
        "    if not damages:\n",
        "        return {\n",
        "            'width': width,\n",
        "            'height': height,\n",
        "            'depth': depth,\n",
        "            'damage_type': None,\n",
        "            'bbox': None\n",
        "        }\n",
        "\n",
        "    # Extract damage details\n",
        "    damage_element = damages[0]\n",
        "    damage_type = damage_element.find(\"name\").text\n",
        "    bbox_element = damage_element.find(\"bndbox\")\n",
        "    print(bbox_element)\n",
        "    xmin = int(bbox_element.find(\"xmin\").text)\n",
        "    ymin = int(bbox_element.find(\"ymin\").text)\n",
        "    xmax = int(bbox_element.find(\"xmax\").text)\n",
        "    ymax = int(bbox_element.find(\"ymax\").text)\n",
        "\n",
        "    return {\n",
        "        'width': width,\n",
        "        'height': height,\n",
        "        'depth': depth,\n",
        "        'damage_type': damage_type,\n",
        "        'bbox': {'xmin': xmin, 'ymin': ymin, 'xmax': xmax, 'ymax': ymax}\n",
        "    }\n",
        "\n",
        "def visualize_bounding_boxes(image_path, annotation_info):\n",
        "    image = Image.open(image_path)\n",
        "\n",
        "    fig, ax = plt.subplots(1, figsize=(8, 8))\n",
        "    ax.imshow(image)\n",
        "\n",
        "    bbox = annotation_info['bbox']\n",
        "    damage_type = annotation_info['damage_type']\n",
        "\n",
        "    if bbox is not None:\n",
        "        # Create a rectangle patch\n",
        "        rect = patches.Rectangle((bbox['xmin'], bbox['ymin']), bbox['xmax'] - bbox['xmin'], bbox['ymax'] - bbox['ymin'],\n",
        "                                 linewidth=2, edgecolor='r', facecolor='none', label=f\"Damage Type: {damage_type}\")\n",
        "        ax.add_patch(rect)\n",
        "\n",
        "    plt.title(f\"Bounding Box Visualization for {os.path.basename(image_path)}\")\n",
        "    plt.show()\n",
        "\n",
        "def import_and_visualize_dataset(root_dir):\n",
        "    dataset = []\n",
        "\n",
        "    images_folder = os.path.join(root_dir, 'images')\n",
        "    annotations_folder = os.path.join(root_dir, 'annot')\n",
        "\n",
        "    for filename in os.listdir(images_folder):\n",
        "        if filename.endswith(\".jpg\"):\n",
        "            image_path = os.path.join(images_folder, filename)\n",
        "            xml_filename = os.path.splitext(filename)[0] + \".xml\"\n",
        "            xml_path = os.path.join(annotations_folder, xml_filename)\n",
        "\n",
        "            if os.path.exists(xml_path):\n",
        "                annotation_info = parse_xml(xml_path)\n",
        "                annotation_info['image_path'] = image_path\n",
        "                dataset.append(annotation_info)\n",
        "\n",
        "                visualize_bounding_boxes(image_path, annotation_info)\n",
        "\n",
        "# Example usage:\n",
        "root_directory = '/content/'\n",
        "import_and_visualize_dataset(root_directory)"
      ]
    }
  ]
}